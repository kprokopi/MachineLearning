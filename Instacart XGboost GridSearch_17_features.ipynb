{
 "cells": [
  {
   "cell_type": "markdown",
   "metadata": {
    "_uuid": "443133c6e567ca1e3bf8d14626e52a2b39dc5ee4"
   },
   "source": [
    "# Introduction\n",
    "This kernel has been created by the [Information Systems Lab](http://islab.uom.gr) to introduce students of the [University of Macedonia](http://www.uom.gr/index.php?tmima=2&categorymenu=2), Greece to Machine Learning & Data Science.\n",
    "\n",
    "## The Instacart competition\n",
    "Instacart is an American company that operates as a same-day grocery delivery service. Customers select groceries through a web application from various retailers and delivered by a personal shopper. Instacart's service is mainly provided through a smartphone app, available on iOS and Android platforms, apart from its website.\n",
    "\n",
    "In 2017 Instacart organised a Kaggle competition and provided to the community a sample dataset of over 3 million grocery orders from more than 200,000 Instacart users. The orders include 32 million basket items and 50,000 unique products. The objective of the competition was participants to **predict which previously purchased products will be in a user’s next order**.\n",
    "\n",
    "## Objective\n",
    "The objective of this Kernel is to introduce students to predictive business analytics with Python through the Instacart case. \n",
    "\n",
    "By the time you finish this example, you will be able to:\n",
    "* Describe the steps of creating a predictive analytics model\n",
    "* Use Python and Pandas package to manipulate data\n",
    "* Use Python and Pandas package to create, combine, and delete DataFrames\n",
    "* Use Random Forests to create a predictive model\n",
    "* Apply the predictive model in order to make a prediction\n",
    "* Create a submission file for the competition of Instacart\n",
    "\n",
    "## Problem definition\n",
    "The data that Instacart opened up include orders of 200,000 Instacart users with each user having between 4 and 100 orders. Instacart indicates each order in the data as prior, train or test. Prior orders describe the **past behaviour** of a user while train and test orders regard the **future behaviour that we need to predict**. \n",
    "\n",
    "As a result, we want to predict which previously purchased products (prior orders) will be in a user’s next order (train and test orders). \n",
    "\n",
    "For the train orders Instacart reveals the results (i.e., the ordered products) while for the test orders we do not have this piece of information. Moreover, the future order of each user can be either train or test meaning that each user will be either a train or a test user. \n",
    "\n",
    "The setting of the Instacart problem is described in the figure below (orders with yellow color denotes future orders of a user). \n",
    "\n",
    "<img src=\"https://i.imgur.com/S0Miw3m.png\" width=\"350\">\n",
    "\n",
    "Each user has purchased various products during their prior orders. Moreover, for each user we know the order_id of their future order. The goal is to predict which of these products will be in a user's future order. \n",
    "\n",
    "This is a **classification problem** because we need to predict whether each pair of user and product is a reorder or not. This is indicated by the value of the reordered variable, i.e. reordered=1 or reordered=0 (see figure below). \n",
    "\n",
    "<img src=\"https://i.imgur.com/SxK2gsR.png\" width=\"350\">\n",
    "\n",
    "As a result we need to come up and calculate various **predictor variables (X)** that will describe the characteristics of a product and the behaviour of a user regarding one or multiple products. We will do so by analysing the prior orders of the dataset. We will then use the train users to create a predictive model and the test users to make our actual prediction. As a result we create a table as the following one and we train an algorithm based on predictor variables (X) and response variable (Y).\n",
    "\n",
    "<img src=\"https://i.imgur.com/Yb1CKAF.png\" width=\"600\">\n",
    "\n",
    "## Method\n",
    "Our method includes the following steps:\n",
    "1. <b>Import and reshape data</b>: This step includes loading CSV files into pandas DataFrames, tranform character variables to categorical variables, and create a supportive table.\n",
    "2. <b>Create predictor variables</b>: This step includes identifying and calculating predictor variables (aka features) from the initial datasets provided by Instacart. \n",
    "3. <b>Create train and test DataFrames</b>: In this step we create two distinct pandas DataFrames that will be used in the creation and the use of the predictive model.\n",
    "4. <b>Create predictive model (fit)</b>: In this step we train a predictive model through the train dataset.\n",
    "5. <b>Apply predictive model (predict)</b>: This step includes applying the model to predict the 'reordered' variable for the test dataset.\n",
    "6. <b>Create submission file</b>: In this final step we create the submission file with our predictions for Instacart's competition.\n",
    "7. <b>Get F1 score</b>: In this step we submit the produced and file and get the F1 score describing the accuracy of our prediction model."
   ]
  },
  {
   "cell_type": "markdown",
   "metadata": {
    "_cell_guid": "79c7e3d0-c299-4dcb-8224-4455121ee9b0",
    "_uuid": "d629ff2d2480ee46fbb7e2d37f6b5fab8052498a",
    "collapsed": true
   },
   "source": [
    "# 1. Import and Reshape Data \n",
    "First we load the necessary Python packages and then we import the CSV files that were provided by Instacart.\n",
    "\n",
    "## 1.1 Import the required packages\n",
    "The garbage collector (package gc), attempts to reclaim garbage, or memory occupied by objects (e.g., DataFrames) that are no longer in use by Python ([ref1](https://www.techopedia.com/definition/1083/garbage-collection-gc-general-programming), [ref2](https://en.wikipedia.org/wiki/Garbage_collection_(computer_science)). This package will eliminate our risk to exceed the 16GB threshold of available RAM that Kaggle offers.\n",
    "\n",
    "The **\"as\"** reserved word is to define an alias to the package. The alias help us to call easier a package in our code."
   ]
  },
  {
   "cell_type": "code",
   "execution_count": null,
   "metadata": {
    "_uuid": "ade7494679114eee3921819b364693735e49bc5f",
    "collapsed": true
   },
   "outputs": [],
   "source": [
    "# For data manipulation\n",
    "import pandas as pd         \n",
    "\n",
    "# Garbage Collector to free up memory\n",
    "import gc                         \n",
    "gc.enable()                       # Activate "
   ]
  },
  {
   "cell_type": "markdown",
   "metadata": {
    "_uuid": "fb44963ea70a3c8e599e6a02332af8eb5ac2c462"
   },
   "source": [
    "## 1.2 Load data from the CSV files\n",
    "Instacart provides 6 CSV files, which we have to load into Python. Towards this end, we use the .read_csv() function, which is included in the Pandas package. Reading in data with the .read_csv( ) function returns a DataFrame."
   ]
  },
  {
   "cell_type": "markdown",
   "metadata": {},
   "source": [
    "First we connect to the Kaggle API in order to download the zip file with the 6 CSVs. Then we unzip it in a new folder named input, and we unzip all the zip files."
   ]
  },
  {
   "cell_type": "code",
   "execution_count": null,
   "metadata": {
    "collapsed": true
   },
   "outputs": [],
   "source": [
    "#This is for Google Colab\n",
    "from google.colab import files\n",
    "files.upload() #upload kaggle.json\n",
    "\n",
    "!pip install -q kaggle\n",
    "!mkdir -p ~/.kaggle\n",
    "!cp kaggle.json ~/.kaggle/\n",
    "!ls ~/.kaggle\n",
    "!chmod 600 /root/.kaggle/kaggle.json"
   ]
  },
  {
   "cell_type": "code",
   "execution_count": null,
   "metadata": {
    "collapsed": true
   },
   "outputs": [],
   "source": [
    "# connect to kaggle api and download files (zip)\n",
    "from kaggle.api.kaggle_api_extended import KaggleApi\n",
    "api = KaggleApi({\"username\":\"kprokopi\",\"key\":\"9a28305a56476ed46a0ac149764d9610\"})\n",
    "api.authenticate()\n",
    "files = api.competition_download_files(\"Instacart-Market-Basket-Analysis\")"
   ]
  },
  {
   "cell_type": "code",
   "execution_count": null,
   "metadata": {
    "collapsed": true
   },
   "outputs": [],
   "source": [
    "import zipfile\n",
    "with zipfile.ZipFile('Instacart-Market-Basket-Analysis.zip', 'r') as zip_ref:\n",
    "    zip_ref.extractall('./input')"
   ]
  },
  {
   "cell_type": "code",
   "execution_count": null,
   "metadata": {
    "collapsed": true
   },
   "outputs": [],
   "source": [
    "import os\n",
    "working_directory = os.getcwd()+'/input'\n",
    "os.chdir(working_directory)\n",
    "for file in os.listdir(working_directory):   # get the list of files\n",
    "    if zipfile.is_zipfile(file): # if it is a zipfile, extract it\n",
    "        with zipfile.ZipFile(file) as item: # treat the file as a zip\n",
    "           item.extractall()  # extract it in the working directory"
   ]
  },
  {
   "cell_type": "code",
   "execution_count": null,
   "metadata": {
    "collapsed": true
   },
   "outputs": [],
   "source": [
    "orders = pd.read_csv('../input/orders.csv')\n",
    "order_products_train = pd.read_csv('../input/order_products__train.csv')\n",
    "order_products_prior = pd.read_csv('../input/order_products__prior.csv')\n",
    "products = pd.read_csv('../input/products.csv')\n",
    "aisles = pd.read_csv('../input/aisles.csv')\n",
    "departments = pd.read_csv('../input/departments.csv')"
   ]
  },
  {
   "cell_type": "markdown",
   "metadata": {},
   "source": [
    "When we run the code in kaggle, we use the following code to load data:"
   ]
  },
  {
   "cell_type": "code",
   "execution_count": null,
   "metadata": {
    "collapsed": true
   },
   "outputs": [],
   "source": [
    "'''\n",
    "orders = pd.read_csv('../input/instacart-market-basket-analysis/orders.csv')\n",
    "order_products_train = pd.read_csv('../input/instacart-market-basket-analysis/order_products__train.csv')\n",
    "order_products_prior = pd.read_csv('../input/instacart-market-basket-analysis/order_products__prior.csv')\n",
    "products = pd.read_csv('../input/instacart-market-basket-analysis/products.csv')\n",
    "aisles = pd.read_csv('../input/instacart-market-basket-analysis/aisles.csv')\n",
    "departments = pd.read_csv('../input/instacart-market-basket-analysis/departments.csv')\n",
    "'''"
   ]
  },
  {
   "cell_type": "markdown",
   "metadata": {},
   "source": [
    "In case we load the csv files from the local disk we run the following code:"
   ]
  },
  {
   "cell_type": "code",
   "execution_count": null,
   "metadata": {
    "_uuid": "3fd1053c5df37c229f665db95a5de680ecb13490",
    "collapsed": true
   },
   "outputs": [],
   "source": [
    "'''\n",
    "import os #package to get the working directory\n",
    "\n",
    "#cwd is the current directory of the data folder\n",
    "cwd = os.getcwd()\n",
    "print('The working directory is : '+cwd)\n",
    "#csv files are in the input directory\n",
    "path_orders=cwd+'\\\\input\\\\orders.csv'\n",
    "path_order_products_train =cwd+'\\\\input\\\\order_products__train.csv'\n",
    "path_order_products_prior=cwd+'\\\\input\\\\order_products__prior.csv'\n",
    "path_products=cwd+'\\\\input\\\\products.csv'\n",
    "path_aisles=cwd+'\\\\input\\\\aisles.csv'\n",
    "path_departments=cwd+'\\\\input\\\\departments.csv'\n",
    "\n",
    "orders = pd.read_csv(path_orders) #read orders.csv\n",
    "order_products_train = pd.read_csv(path_order_products_train)\n",
    "order_products_prior = pd.read_csv(path_order_products_prior)\n",
    "products = pd.read_csv(path_products)\n",
    "aisles = pd.read_csv(path_aisles)\n",
    "departments = pd.read_csv(path_departments)\n",
    "'''"
   ]
  },
  {
   "cell_type": "markdown",
   "metadata": {},
   "source": [
    "This step results in the following DataFrames:\n",
    "* <b>orders</b>: This table includes all orders, namely prior, train, and test. It has single primary key (<b>order_id</b>).\n",
    "* <b>order_products_train</b>: This table includes training orders. It has a composite primary key (<b>order_id and product_id</b>) and indicates whether a product in an order is a reorder or not (through the reordered variable).\n",
    "* <b>order_products_prior </b>: This table includes prior orders. It has a composite primary key (<b>order_id and product_id</b>) and indicates whether a product in an order is a reorder or not (through the reordered variable).\n",
    "* <b>products</b>: This table includes all products. It has a single primary key (<b>product_id</b>)\n",
    "* <b>aisles</b>: This table includes all aisles. It has a single primary key (<b>aisle_id</b>)\n",
    "* <b>departments</b>: This table includes all departments. It has a single primary key (<b>department_id</b>)"
   ]
  },
  {
   "cell_type": "markdown",
   "metadata": {},
   "source": [
    "If you want to reduce the execution time of this Kernel you can use the following piece of code by uncomment it. This will trim the orders DataFrame and will keep a 10% random sample of the users. You can use this for experimentation."
   ]
  },
  {
   "cell_type": "code",
   "execution_count": null,
   "metadata": {
    "collapsed": true
   },
   "outputs": [],
   "source": [
    "\n",
    "#### Remove triple quotes to trim your dataset and experiment with your data\n",
    "### COMMANDS FOR CODING TESTING - Get 10% of users \n",
    "orders = orders.loc[orders.user_id.isin(orders.user_id.drop_duplicates().sample(frac=0.1, random_state=25))] \n"
   ]
  },
  {
   "cell_type": "markdown",
   "metadata": {},
   "source": [
    "We now use the .head( ) method in order to visualise the first 10 rows of these tables. Click the Output button below to see the tables."
   ]
  },
  {
   "cell_type": "code",
   "execution_count": null,
   "metadata": {
    "_kg_hide-output": true,
    "collapsed": true
   },
   "outputs": [],
   "source": [
    "orders.head()"
   ]
  },
  {
   "cell_type": "code",
   "execution_count": null,
   "metadata": {
    "_kg_hide-output": true,
    "collapsed": true
   },
   "outputs": [],
   "source": [
    "order_products_train.head()"
   ]
  },
  {
   "cell_type": "code",
   "execution_count": null,
   "metadata": {
    "_kg_hide-output": true,
    "collapsed": true
   },
   "outputs": [],
   "source": [
    "order_products_prior.head()"
   ]
  },
  {
   "cell_type": "code",
   "execution_count": null,
   "metadata": {
    "_kg_hide-output": true,
    "collapsed": true
   },
   "outputs": [],
   "source": [
    "products.head()"
   ]
  },
  {
   "cell_type": "code",
   "execution_count": null,
   "metadata": {
    "_kg_hide-output": true,
    "collapsed": true
   },
   "outputs": [],
   "source": [
    "aisles.head()"
   ]
  },
  {
   "cell_type": "code",
   "execution_count": null,
   "metadata": {
    "_kg_hide-output": true,
    "collapsed": true
   },
   "outputs": [],
   "source": [
    "departments.head()"
   ]
  },
  {
   "cell_type": "markdown",
   "metadata": {},
   "source": [
    "## 1.3a Reshape data\n",
    "We transform the data in order to facilitate their further analysis. First, we convert character variables into categories so we can use them in the creation of the model. In Python, a categorical variable is called category and has a fixed number of different values."
   ]
  },
  {
   "cell_type": "code",
   "execution_count": null,
   "metadata": {
    "collapsed": true
   },
   "outputs": [],
   "source": [
    "# We convert character variables into category. \n",
    "# In Python, a categorical variable is called category and has a fixed number of different values\n",
    "aisles['aisle'] = aisles['aisle'].astype('category')\n",
    "departments['department'] = departments['department'].astype('category')\n",
    "orders['eval_set'] = orders['eval_set'].astype('category')\n",
    "products['product_name'] = products['product_name'].astype('category')"
   ]
  },
  {
   "cell_type": "markdown",
   "metadata": {},
   "source": [
    "## 1.3b Addition of three categories for some products\n",
    "We add three categories for some products (organic, gluten free and asian)"
   ]
  },
  {
   "cell_type": "code",
   "execution_count": null,
   "metadata": {
    "collapsed": true
   },
   "outputs": [],
   "source": [
    "products['product_is_organic']=products.product_name.map(lambda x:'organic' in x.lower())*1\n",
    "products['product_is_gluten_free']=products.product_name.map(lambda x: 'gluten' in x.lower() and 'free' in x.lower())*1\n",
    "products['product_is_asian']=products.product_name.map(lambda x: 'asian' in x.lower())*1\n",
    "products.head(30)"
   ]
  },
  {
   "cell_type": "markdown",
   "metadata": {},
   "source": [
    "## 1.4 Create a DataFrame with the orders and the products that have been purchased on prior orders (op) 📚📝\n",
    "We create a new DataFrame, named <b>op</b> which combines (merges) the DataFrames <b>orders</b> and <b>order_products_prior</b>. Bear in mind that <b>order_products_prior</b> DataFrame includes only prior orders, so the new DataFrame <b>op</b>  will contain only these observations as well. Towards this end, we use pandas' merge function with how='inner' argument, which returns records that have matching values in both DataFrames. \n",
    "<img src=\"https://i.imgur.com/zEK7FpY.jpg\" width=\"400\">"
   ]
  },
  {
   "cell_type": "code",
   "execution_count": null,
   "metadata": {
    "collapsed": true
   },
   "outputs": [],
   "source": [
    "#Merge the orders DF with order_products_prior by their order_id, keep only these rows with order_id that they are appear on both DFs\n",
    "op = orders.merge(order_products_prior, on='order_id', how='inner') ##\n",
    "op.head()"
   ]
  },
  {
   "cell_type": "markdown",
   "metadata": {},
   "source": [
    "The table contains for all the customers **(user_id)**: <br>\n",
    "&nbsp;&nbsp;&nbsp;&nbsp;&nbsp;&nbsp; ➡︎ the orders **(order_id)** that they have placed accompanied with: <br>\n",
    "&nbsp;&nbsp;&nbsp;&nbsp;&nbsp;&nbsp;&nbsp;&nbsp;&nbsp;&nbsp;&nbsp;&nbsp; ➡︎ the products **(product_id)** that have been bought in each order"
   ]
  },
  {
   "cell_type": "code",
   "execution_count": null,
   "metadata": {
    "collapsed": true
   },
   "outputs": [],
   "source": [
    "op=op.merge(products,on='product_id',how='inner')\n",
    "op=op.drop(['product_name','aisle_id','department_id'],axis=1)\n",
    "op.head()"
   ]
  },
  {
   "cell_type": "markdown",
   "metadata": {},
   "source": [
    "# 2. Create Predictor Variables\n",
    "We are now ready to identify and calculate predictor variables based on the provided data. We can create various types of predictors such as:\n",
    "* <b>User predictors</b> describing the behavior of a user e.g. total number of orders of a user.\n",
    "* <b>Product predictors</b> describing characteristics of a product e.g. total number of times a product has been purchased.\n",
    "* <b>User & product predictors</b> describing the behavior of a user towards a specific product e.g. total times a user ordered a specific product."
   ]
  },
  {
   "cell_type": "markdown",
   "metadata": {},
   "source": [
    "## 2.1 Create user predictors\n",
    "We create the following predictors:\n",
    "- 2.1.1 Number of orders per customer (**u_total_orders**)\n",
    "- 2.1.2 The mean time period in days between two consecutive orders of a customer (**u_mean_period**)\n",
    "- 2.1.3 How frequent a customer has reordered products (**u_reordered_ratio**)\n",
    "- 2.1.4 Number of products per customer (**u_total_products**) of all purchases\n",
    "- 2.1.5 Number of unique products per customer (**u_total_unique_products**) of all purchases\n",
    "- 2.1.6 The ratio of organic, gluten free and asian products of each customer in purchases (**organic_ratio**, **gluten_free_ratio**, **asian_ratio**)\n",
    "\n",
    "\n",
    "### 2.1.1 Number of orders per customer\n",
    "We calculate the total number of placed orders per customer. We create a **user** DataFrame to store the results."
   ]
  },
  {
   "cell_type": "code",
   "execution_count": null,
   "metadata": {
    "collapsed": true
   },
   "outputs": [],
   "source": [
    "## First approach in one step:\n",
    "# Create distinct groups for each user, identify the highest order number in each group, save the new column to a DataFrame\n",
    "user = op.groupby('user_id')['order_number'].max().to_frame('u_total_orders')\n",
    "user.head()\n",
    "\n",
    "## Second approach in two steps: \n",
    "#1. Save the result as DataFrame with Double brackets --> [[ ]] \n",
    "#user = op.groupby('user_id')[['order_number']].max()\n",
    "#2. Rename the label of the column\n",
    "#user.columns = ['u_total_orders']\n",
    "#user.head()"
   ]
  },
  {
   "cell_type": "code",
   "execution_count": null,
   "metadata": {
    "collapsed": true
   },
   "outputs": [],
   "source": [
    "# Reset the index of the DF so to bring user_id from index to column (pre-requisite for step 2.4)\n",
    "user = user.reset_index()\n",
    "user.head()"
   ]
  },
  {
   "cell_type": "markdown",
   "metadata": {},
   "source": [
    "### 2.1.2 The mean time period in days between two consecutive orders of a customer"
   ]
  },
  {
   "cell_type": "code",
   "execution_count": null,
   "metadata": {
    "collapsed": true
   },
   "outputs": [],
   "source": [
    "#We groupby user_id and calculate the mean value\n",
    "u_mean_period = orders.groupby('user_id')['days_since_prior_order'].mean().to_frame('u_mean_period')\n",
    "u_mean_period = u_mean_period.reset_index()\n",
    "u_mean_period.head()"
   ]
  },
  {
   "cell_type": "markdown",
   "metadata": {},
   "source": [
    "### 2.1.3 How frequent a customer has reordered products 📚📝\n",
    " \n",
    "This feature is a ratio which shows for each user in what extent has products that have been reordered in the past: <br>\n",
    "So we create the following ratio: <br>\n",
    "\n",
    "<img src=\"https://latex.codecogs.com/gif.latex?\\dpi{120}&space;\\large&space;probability\\&space;reordered\\&space;(user\\_id)=&space;\\frac{total\\&space;times\\&space;of\\&space;reorders}{total\\&space;number\\&space;of\\&space;purchased\\&space;products\\&space;from\\&space;all\\&space;baskets}\" title=\"probability\\ reordered\\ (user\\_id)= \\frac{total\\ times\\ of\\ reorders}{total\\ number\\ of\\ purchased\\ products\\ from\\ all\\ baskets}\" />\n",
    "\n",
    "The nominator is a counter for all the times a user has reordered products (value on reordered=1), the denominator is a counter of all the products that have been purchased on all user's orders (reordered=0 & reordered=1).\n",
    "\n",
    "E.g., for a user that has ordered 6 products in total, where 3 times were reorders, the ratio will be:\n",
    "\n",
    "![example ratio](https://latex.codecogs.com/gif.latex?\\dpi{120}&space;\\large&space;&space;mean=&space;\\frac{0&plus;1&plus;0&plus;0&plus;1&plus;1}{6}&space;=&space;0,5) \n",
    "\n",
    "To create the above ratio we .groupby() order_products_prior by each user and then calculate the mean of reordered.\n"
   ]
  },
  {
   "cell_type": "code",
   "execution_count": null,
   "metadata": {
    "collapsed": true
   },
   "outputs": [],
   "source": [
    "u_reorder = op.groupby('user_id')['reordered'].mean().to_frame('u_reordered_ratio') #\n",
    "u_reorder = u_reorder.reset_index()\n",
    "u_reorder.head()"
   ]
  },
  {
   "cell_type": "markdown",
   "metadata": {},
   "source": [
    "### 2.1.4 Number of products per customer (**u_total_products**) of all purchases\n",
    "\n",
    "We calculate the total number of products (not unique) the customer bought in all his/her orders "
   ]
  },
  {
   "cell_type": "code",
   "execution_count": null,
   "metadata": {
    "collapsed": true
   },
   "outputs": [],
   "source": [
    "# Create distinct groups for each user and order_id, identify the highest order number in each group, save the new column to a DataFrame\n",
    "user_total_products = op.groupby(['user_id'])['product_id'].count().to_frame('u_total_products')\n",
    "user_total_products = user_total_products.reset_index()\n",
    "user_total_products.head()"
   ]
  },
  {
   "cell_type": "markdown",
   "metadata": {},
   "source": [
    "### 2.1.5 Number of unique products per customer (**u_total_unique_products**) of all purchases"
   ]
  },
  {
   "cell_type": "code",
   "execution_count": null,
   "metadata": {
    "collapsed": true
   },
   "outputs": [],
   "source": [
    "user_total_unique_products = op.groupby(['user_id'])['product_id'].nunique().to_frame('u_total_unique_products')\n",
    "user_total_unique_products = user_total_unique_products.reset_index()\n",
    "user_total_unique_products.head()"
   ]
  },
  {
   "cell_type": "markdown",
   "metadata": {},
   "source": [
    "### 2.1.6 The ratio of organic, gluten free and asian products of each customer in purchases (**organic_ratio**, **gluten_free_ratio**, **asian_ratio**)\n",
    "We count for each customer the number of organic, gluten free and asian products and the we calculate the ratio"
   ]
  },
  {
   "cell_type": "code",
   "execution_count": null,
   "metadata": {
    "collapsed": true
   },
   "outputs": [],
   "source": [
    "user_habit=op.groupby(['user_id'])['product_is_organic'].sum().to_frame('organic_count')\n",
    "user_habit['gluten_free_count']=op.groupby(['user_id'])['product_is_gluten_free'].sum()\n",
    "user_habit['asian_count']=op.groupby(['user_id'])['product_is_asian'].sum()\n",
    "user_habit = user_habit.reset_index()\n",
    "user_habit.head()\n"
   ]
  },
  {
   "cell_type": "markdown",
   "metadata": {},
   "source": [
    "We calculate the ratio 'organic_ratio' as $\\frac{\\textrm{number of products which bought the user and are organic}}{\\textrm{total number of products which bought}}$. The features 'gluten_free_ratio' and 'asian_ratio' are estimated similarly."
   ]
  },
  {
   "cell_type": "markdown",
   "metadata": {},
   "source": [
    "The new feature will be merged with the user DataFrame (section 2.1.1) which keep all the features based on users. We perform a left join as we want to keep all the users that we have created on the user DataFrame\n",
    "\n",
    "<img src=\"https://i.imgur.com/wMmC4hb.jpg\" width=\"400\">"
   ]
  },
  {
   "cell_type": "code",
   "execution_count": null,
   "metadata": {
    "collapsed": true
   },
   "outputs": [],
   "source": [
    "user = user.merge(u_reorder, on='user_id', how='left') \n",
    "\n",
    "user=user.merge(u_mean_period, on='user_id', how='left')\n",
    "\n",
    "user=user.merge(user_total_products, on='user_id', how='left')\n",
    "\n",
    "user=user.merge(user_total_unique_products, on='user_id', how='left')\n",
    "                \n",
    "user=user.merge(user_habit, on='user_id', how='left')  \n",
    "                \n",
    "user['organic_ratio']=user['organic_count']/user['u_total_products']\n",
    "user['gluten_free_ratio']=user['gluten_free_count']/user['u_total_products']\n",
    "user['asian_ratio']=user['asian_count']/user['u_total_products']\n",
    "\n",
    "#we drop the columns we don't need any more\n",
    "user=user.drop(['organic_count','gluten_free_count','asian_count'],axis=1)\n",
    "\n",
    "del u_reorder, u_mean_period, user_total_products, user_total_unique_products, user_habit\n",
    "gc.collect()\n",
    "\n",
    "user.head()"
   ]
  },
  {
   "cell_type": "markdown",
   "metadata": {},
   "source": [
    "## 2.2 Create product predictors\n",
    "We create the following predictors:\n",
    "- 2.2.1 Number of purchases for each product (**p_total_purchases**)\n",
    "- 2.2.2 What is the probability for a product to be reordered (**p_reorder**)\n",
    "- 2.2.3 Number of purchases for each department a product belongs to (**dept_t_purchases**)\n",
    "- 2.2.4 One-shot ratio of a product (**one_shot_ratio**)\n",
    "\n",
    "### 2.2.1 Number of purchases for each product\n",
    "We calculate the total number of purchases for each product (from all customers). We create a **prd** DataFrame to store the results."
   ]
  },
  {
   "cell_type": "code",
   "execution_count": null,
   "metadata": {
    "collapsed": true
   },
   "outputs": [],
   "source": [
    "# Create distinct groups for each product, count the orders, save the result for each product to a new DataFrame  \n",
    "prd = op.groupby('product_id')['order_id'].count().to_frame('p_total_purchases')\n",
    "prd.head()"
   ]
  },
  {
   "cell_type": "code",
   "execution_count": null,
   "metadata": {
    "collapsed": true
   },
   "outputs": [],
   "source": [
    "# Reset the index of the DF so to bring product_id rom index to column (pre-requisite for step 2.4)\n",
    "prd = prd.reset_index()\n",
    "prd.head()"
   ]
  },
  {
   "cell_type": "markdown",
   "metadata": {},
   "source": [
    "## 2.2.2 What is the probability for a product to be reordered\n",
    "In this section we want to find the products which have the highest probability of being reordered. Towards this end it is necessary to define the probability as below:\n",
    "<img src=\"https://latex.codecogs.com/gif.latex?\\dpi{150}&space;\\large&space;probability\\&space;reordered\\&space;(product\\_id)=&space;\\frac{number\\&space;of\\&space;reorders}{total\\&space;number\\&space;of\\&space;orders\\&space;}\" title=\"probability\\ reordered\\ (product\\_id)= \\frac{number\\ of\\ reorders}{total\\ number\\ of\\ orders\\ }\" />\n",
    "\n",
    "Example: The product with product_id=2 is included in 90 purchases but only 12 are reorders. So we have:  \n",
    "\n",
    "<img src=\"https://latex.codecogs.com/gif.latex?\\dpi{150}&space;\\large&space;p\\_reorder\\(product\\_id\\mathop{==}&space;2&space;)=&space;\\frac{12}{90}=&space;0,133\" title=\"\\large p\\_reorder\\(product\\_id\\mathop{==} 2 )= \\frac{12}{90}= 0,133\" />\n",
    "\n",
    "### 2.2.2.1 Remove products with less than 40 purchases - Filter with .shape[0]\n",
    "Before we proceed to this estimation, we remove all these products that have less than 40 purchases in order the calculation of the aforementioned ratio to be meaningful.\n",
    "\n",
    "Using .groupby() we create groups for each product and using .filter( ) we keep only groups with more than 40 rows. Towards this end, we indicate a lambda function."
   ]
  },
  {
   "cell_type": "code",
   "execution_count": null,
   "metadata": {
    "collapsed": true
   },
   "outputs": [],
   "source": [
    "# execution time: 25 sec\n",
    "# the x on lambda function is a temporary variable which represents each group\n",
    "# shape[0] on a DataFrame returns the number of rows\n",
    "p_reorder = op.groupby('product_id').filter(lambda x: x.shape[0] >40)\n",
    "p_reorder.head()"
   ]
  },
  {
   "cell_type": "markdown",
   "metadata": {},
   "source": [
    "### 2.2.2.2 Group products, calculate the mean of reorders\n",
    "\n",
    "To calculate the reorder probability we will use the aggregation function mean() to the reordered column. In the reorder data frame, the reordered column indicates that a product has been reordered when the value is 1.\n",
    "\n",
    "The .mean() calculates how many times a product has been reordered, divided by how many times has been ordered in total. \n",
    "\n",
    "E.g., for a product that has been ordered 9 times in total, where 4 times has been reordered, the ratio will be:\n",
    "\n",
    "![example ratio](https://latex.codecogs.com/gif.latex?\\dpi{120}&space;\\large&space;&space;mean=&space;\\frac{0&plus;1&plus;0&plus;0&plus;1&plus;1&plus;0&plus;0&plus;1}{9}&space;=&space;0,44) \n",
    "\n",
    "We calculate the ratio for each product. The aggregation function is limited to column 'reordered' and it calculates the mean value of each group."
   ]
  },
  {
   "cell_type": "code",
   "execution_count": null,
   "metadata": {
    "collapsed": true
   },
   "outputs": [],
   "source": [
    "p_reorder = p_reorder.groupby('product_id')['reordered'].mean().to_frame('p_reorder_ratio')\n",
    "p_reorder = p_reorder.reset_index()\n",
    "p_reorder.head()"
   ]
  },
  {
   "cell_type": "markdown",
   "metadata": {},
   "source": [
    "### 2.2.2.3 Merge the new feature on prd DataFrame\n",
    "The new feature will be merged with the prd DataFrame (section 2.2.1) which keep all the features based on products. We perform a left join as we want to keep all the products that we have created on the prd DataFrame\n",
    "<img src=\"https://i.imgur.com/dOVWPKb.jpg\" width=\"400\">"
   ]
  },
  {
   "cell_type": "code",
   "execution_count": null,
   "metadata": {
    "collapsed": true
   },
   "outputs": [],
   "source": [
    "#Merge the prd DataFrame with reorder\n",
    "prd = prd.merge(p_reorder, on='product_id', how='left')\n",
    "\n",
    "#delete the reorder DataFrame\n",
    "del p_reorder\n",
    "gc.collect()\n",
    "\n",
    "prd.head()"
   ]
  },
  {
   "cell_type": "markdown",
   "metadata": {},
   "source": [
    "#### 2.2.2.4 Fill NaN values 📚📝\n",
    "As you may notice, there are product with NaN values. This regards the products that have been purchased less than 40 times from all users and were not included in the p_reorder DataFrame. **As we performed a left join with prd DataFrame, all the rows with products that had less than 40 purchases from all users, will get a NaN value.**\n",
    "\n",
    "For these products we their NaN value with zero (0):"
   ]
  },
  {
   "cell_type": "code",
   "execution_count": null,
   "metadata": {
    "collapsed": true
   },
   "outputs": [],
   "source": [
    "prd['p_reorder_ratio'] = prd['p_reorder_ratio'].fillna(0) #\n",
    "prd.head()"
   ]
  },
  {
   "cell_type": "markdown",
   "metadata": {},
   "source": [
    "> Our final DataFrame should not have any NaN values, otherwise the fitting process (chapter 4) will throw an error!"
   ]
  },
  {
   "cell_type": "markdown",
   "metadata": {},
   "source": [
    "\n",
    "### 2.2.3 Number of purchases for each department a product belongs to\n",
    "\n",
    "We estimate the number of purchases for each department and then we assign the number of total purchases of the department to each product\n"
   ]
  },
  {
   "cell_type": "code",
   "execution_count": null,
   "metadata": {
    "collapsed": true
   },
   "outputs": [],
   "source": [
    "#We merge the prd (dataframe of the total purchases per product) with the products dataframe in order to insert \n",
    "#the department_id\n",
    "dep=prd.merge(products, on='product_id', how='left')\n",
    "dep.head()"
   ]
  },
  {
   "cell_type": "code",
   "execution_count": null,
   "metadata": {
    "collapsed": true
   },
   "outputs": [],
   "source": [
    "#We count using groupby the total purchases for each department_id\n",
    "prod_dep=dep.groupby('department_id')['p_total_purchases'].count()\n",
    "prod_dep = prod_dep.reset_index()\n",
    "prod_dep.head(30)\n",
    "\n",
    "#We merge the products dataframe with the prod_dep\n",
    "prod_department=products.merge(prod_dep,on='department_id',how='left')\n",
    "#we keep only 2 columns\n",
    "prod_department=prod_department[['product_id','p_total_purchases']]\n",
    "#we rename the column\n",
    "prod_department=prod_department.rename(columns={'p_total_purchases':'dept_t_purchases'})\n",
    "prod_department.head(30)"
   ]
  },
  {
   "cell_type": "markdown",
   "metadata": {},
   "source": [
    "### 2.2.4 One-shot ratio of a product\n",
    "For each product (product_id) we calculate a ratio that consists of the total number of customers who bought a product only once divided by the total number of customers who bought this product.\n",
    "\n",
    "A high one-shot ratio of a product means that customers tend not to reorder this product. To calculate this ratio we have to compute:\n",
    "\n",
    "*     the number of users bought it only once (count)\n",
    "*     the number of unique customers of a product (count)"
   ]
  },
  {
   "cell_type": "code",
   "execution_count": null,
   "metadata": {
    "collapsed": true
   },
   "outputs": [],
   "source": [
    "# How many times each customer bought a product\n",
    "item = op.groupby(['product_id', 'user_id'])[['order_id']].count() \n",
    "item.columns = ['total']\n",
    "item.head()\n",
    "\n",
    "# How many times each customer bought a product only 1\n",
    "item_one = item[item.total==1]\n",
    "item_one.head()\n",
    "\n",
    "#How many customers bought each product only 1\n",
    "item_one = item_one.groupby('product_id')[['total']].count()\n",
    "item_one.columns = ['customers_one_shot']\n",
    "item_one.head()\n",
    "\n",
    "#Number of unique customers of a product\n",
    "item=item.reset_index(1)\n",
    "item_size = item.groupby('product_id')[['user_id']].count()\n",
    "item_size.columns = ['unique_customers']\n",
    "item_size.head()\n",
    "\n",
    "# One Shot ratio\n",
    "results = pd.merge(item_size, item_one, on='product_id', how='left')\n",
    "results['one_shot_ratio'] =  results['customers_one_shot'] /results['unique_customers']\n",
    "results.head()\n",
    "\n",
    "# fill NaN Values There are cases where none customer bought a product only one time\n",
    "results = results.fillna(0)\n",
    "results = results.drop(['unique_customers', 'customers_one_shot'], axis=1)\n",
    "results = results.reset_index()\n",
    "results.head()\n",
    "\n",
    "del item, item_one, item_size\n",
    "gc.collect()\n",
    "\n"
   ]
  },
  {
   "cell_type": "markdown",
   "metadata": {},
   "source": [
    "## 2.3 Create user-product predictors\n",
    "We create the following predictors:\n",
    "- 2.3.1 How many times a user bought a product (**uxp_total_bought**)\n",
    "- 2.3.2 How frequently a customer bought a product after its first purchase ? (**uxp_reorder_ratio**) and the number of orders since user’s last order of a product (**uxp_orders_since_last_order**)\n",
    "- 2.3.3 For a each user we find the average position of a product on its order (**mean_add_to_cart_order**)\n",
    "- 2.3.4 How many times a customer bought a product on its last N orders (**times_lastN**) \n",
    "\n",
    "### 2.3.1 How many times a user bought a product\n",
    "We create different groups that contain all the rows for each combination of user and product. With the aggregation function .count( ) we get how many times each user bought a product. We save the results on new **uxp** DataFrame."
   ]
  },
  {
   "cell_type": "code",
   "execution_count": null,
   "metadata": {
    "collapsed": true
   },
   "outputs": [],
   "source": [
    "# Create distinct groups for each combination of user and product, count orders, save the result for each user X product to a new DataFrame \n",
    "uxp = op.groupby(['user_id', 'product_id'])['order_id'].count().to_frame('uxp_total_bought')\n",
    "uxp.head()"
   ]
  },
  {
   "cell_type": "code",
   "execution_count": null,
   "metadata": {
    "collapsed": true
   },
   "outputs": [],
   "source": [
    "# Reset the index of the DF so to bring user_id & product_id rom indices to columns (pre-requisite for step 2.4)\n",
    "uxp = uxp.reset_index()\n",
    "uxp.head()"
   ]
  },
  {
   "cell_type": "markdown",
   "metadata": {},
   "source": [
    "### 2.3.2 How frequently a customer bought a product after its first purchase\n",
    "Which is actually the following ratio for each combination of customer and product:\n",
    "\n",
    "<img src=\"https://latex.codecogs.com/gif.latex?\\dpi{120}&space;\\large&space;probability\\&space;reordered\\&space;(user\\_id\\&space;,&space;product\\_id)&space;=&space;\\frac{times\\&space;a\\&space;user\\&space;bought\\&space;a\\&space;product}{number&space;\\&space;of\\&space;orders\\&space;placed\\&space;since\\&space;first\\&space;purchase}\" title=\"\\large probability\\ reordered\\ (user\\_id\\ , product\\_id) = \\frac{times\\ a\\ user\\ bought\\ a\\ product}{number \\ of\\ orders\\ placed\\ since\\ first\\ purchase}\" />\n",
    "\n",
    "\n",
    "The previous ratio is a metric that describes how many times a user bought a product out of how many times he or she had the chance to a buy it (starting from its first purchase).\n",
    "\n",
    "To clarify this, we examine the user_id 1 and the product_id 13032:\n",
    "- User 1 has made 10 orders in total\n",
    "- Has bought the product_id 13032 **for first time in its 2nd order** & has bought the same product 3 times in total.\n",
    "\n",
    "Then:\n",
    "User was able to buy the product for 9 times (starting from its 2nd order to his last order).\n",
    "So this means that has bought it 3 out of 9 times, which equals 3/9= 0,333.\n",
    "\n",
    "A higher ratio means that the customer bought more frequently a product since its first purchase.\n",
    "\n",
    "Before we show how we can create the above ratio we declare the following variables:\n",
    "* How many times a customer bought a product? ('Times_Bought_N')\n",
    "* For each product get the total orders placed since its first order ('Order_Range_D')\n",
    "\n",
    "So our desired ratio is defined as:\n",
    "\n",
    "<img src=\"https://latex.codecogs.com/gif.latex?\\dpi{120}&space;\\large&space;probability\\&space;reordered\\&space;(user\\_id\\&space;,&space;product\\_id)&space;=&space;\\frac{Times\\_Bought\\_N}{Order\\_Range\\_D}\" title=\"\\large probability\\ reordered\\ (user\\_id\\ , product\\_id) = \\frac{Times\\_Bought\\_N}{Order\\_Range\\_D}\" />\n",
    "\n",
    "Where Order_Range_D is created throught two supportive variables:\n",
    "* The total number of orders for each customer ('total_orders')\n",
    "* The order number where the customer bought a product for first time ('first_order_number')\n",
    "\n",
    "Where\n",
    "<img src=\"https://latex.codecogs.com/gif.latex?%5Cdpi%7B120%7D%20%5C%20%5C%20%5C%20%5C%20%5C%20Order%5C_Range%5C_D%28user%5C_id%2C%20product%5C_id%29%20%3D%20%5Cnewline%20%3D%5C%20total%5C_orders%28user%5C_id%29%20-%20first%5C_order%5C_number%28user%5C_id%2C%20product%5C_id%29%20&plus;%201\" width=\"700\">\n",
    "\n",
    "In the next blocks we show how we create:\n",
    "1. The numerator 'Times_Bought_N'\n",
    "2. The supportive variables 'total_orders' & 'first_order_number' \n",
    "3. The denumerator 'Order_Range_D' with the use of the supportive variables\n",
    "4. Our final ratio 'uxp_order_ratio'"
   ]
  },
  {
   "cell_type": "markdown",
   "metadata": {},
   "source": [
    "### 2.3.2.1 Calculating the numerator - How many times a customer bought a product? ('Times_Bought_N')\n",
    "\n",
    "To answer this question we simply .groupby( ) user_id & product_id and we count the instances of order_id for each group."
   ]
  },
  {
   "cell_type": "code",
   "execution_count": null,
   "metadata": {
    "collapsed": true
   },
   "outputs": [],
   "source": [
    "times = op.groupby(['user_id', 'product_id'])[['order_id']].count()\n",
    "times.columns = ['Times_Bought_N']\n",
    "times.head()"
   ]
  },
  {
   "cell_type": "markdown",
   "metadata": {},
   "source": [
    "### 2.3.2.2 Calculating the denumerator\n",
    "To calculate the denumerator, we have first to calculate the total orders of each user & first order number for each user and every product purchase\n",
    "#### 2.3.2.2.a The total number of orders for each customer ('total_orders') 📚📝\n",
    "Here we .groupby( ) only by the user_id, we keep the column order_number and we get its highest value with the aggregation function .mean()"
   ]
  },
  {
   "cell_type": "code",
   "execution_count": null,
   "metadata": {
    "collapsed": true
   },
   "outputs": [],
   "source": [
    "total_orders = op.groupby('user_id')['order_number'].max().to_frame('total_orders') #\n",
    "total_orders.head()"
   ]
  },
  {
   "cell_type": "markdown",
   "metadata": {},
   "source": [
    "#### 2.3.2.2.b The order number where the customer bought a product for first time ('first_order_number')\n",
    "Where for first_order_number we .groupby( ) by both user_id & product_id. As we want to get the order when a product has been purchases for first time, we select the order_number column and we retrieve with .min( ) aggregation function, the earliest order."
   ]
  },
  {
   "cell_type": "code",
   "execution_count": null,
   "metadata": {
    "collapsed": true
   },
   "outputs": [],
   "source": [
    "first_order_no = op.groupby(['user_id', 'product_id'])['order_number'].min().to_frame('first_order_number')\n",
    "first_order_no  = first_order_no.reset_index()\n",
    "first_order_no.head()"
   ]
  },
  {
   "cell_type": "code",
   "execution_count": null,
   "metadata": {
    "collapsed": true
   },
   "outputs": [],
   "source": [
    "last_order_no = op.groupby(['user_id', 'product_id'])['order_number'].max().to_frame('last_order_number')\n",
    "last_order_no  = last_order_no.reset_index()\n",
    "last_order_no.head()"
   ]
  },
  {
   "cell_type": "markdown",
   "metadata": {},
   "source": [
    "We now merge the dataframes first_order_no and last_order_no to new dataframe named again first_order_no"
   ]
  },
  {
   "cell_type": "code",
   "execution_count": null,
   "metadata": {
    "collapsed": true
   },
   "outputs": [],
   "source": [
    "first_order_no=pd.merge(first_order_no,last_order_no,on=['user_id', 'product_id'],how='inner')\n",
    "first_order_no.head()"
   ]
  },
  {
   "cell_type": "markdown",
   "metadata": {},
   "source": [
    "* We merge the first order number with the total_orders DataFrame. As total_orders refers to all users, where first_order_no refers to unique combinations of user & product, we perform a right join:\n",
    "<img src=\"https://i.imgur.com/bhln0tn.jpg\" width=\"400\">"
   ]
  },
  {
   "cell_type": "code",
   "execution_count": null,
   "metadata": {
    "collapsed": true
   },
   "outputs": [],
   "source": [
    "span = pd.merge(total_orders, first_order_no, on='user_id', how='right')\n",
    "\n",
    "span.head()"
   ]
  },
  {
   "cell_type": "markdown",
   "metadata": {},
   "source": [
    "#### 2.3.2.2.c For each product get the total orders placed since its first order ('Order_Range_D')\n",
    "The denominator now can be created with simple operations between the columns of results DataFrame:"
   ]
  },
  {
   "cell_type": "code",
   "execution_count": null,
   "metadata": {
    "collapsed": true
   },
   "outputs": [],
   "source": [
    "# The +1 includes in the difference the first order were the product has been purchased\n",
    "span['Order_Range_D'] = span.total_orders - span.first_order_number + 1\n",
    "\n",
    "span['uxp_orders_since_last_order']=span.total_orders-span.last_order_number\n",
    "span.head()"
   ]
  },
  {
   "cell_type": "markdown",
   "metadata": {},
   "source": [
    "### 2.3.2.3 Create the final ratio \"uxp_reorder_ratio\"\n",
    "#### 2.3.2.3.a Merge the DataFrames of numerator & denumerator\n",
    "We select to merge **times** DataFrame which contains the numerator & **span** which contains the denumerator of our desired ratio. **As both variables derived from the combination of users & products, any type of join will keep all the combinations.**\n",
    "\n",
    "<img src=\"https://i.imgur.com/h7m1bFh.jpg\" width=\"400\">"
   ]
  },
  {
   "cell_type": "code",
   "execution_count": null,
   "metadata": {
    "collapsed": true
   },
   "outputs": [],
   "source": [
    "uxp_ratio = pd.merge(times, span, on=['user_id', 'product_id'], how='left')\n",
    "uxp_ratio.head()"
   ]
  },
  {
   "cell_type": "markdown",
   "metadata": {},
   "source": [
    "####  2.3.2.3.b  Perform the final division #\n",
    "Here we divide the Times_Bought_N by the Order_Range_D for each user and product."
   ]
  },
  {
   "cell_type": "code",
   "execution_count": null,
   "metadata": {
    "collapsed": true
   },
   "outputs": [],
   "source": [
    "uxp_ratio['uxp_reorder_ratio'] = uxp_ratio.Times_Bought_N / uxp_ratio.Order_Range_D ##\n",
    "uxp_ratio.head()"
   ]
  },
  {
   "cell_type": "markdown",
   "metadata": {},
   "source": [
    "####  2.3.2.3.c Keep the final feature\n",
    "We select to keep only the 'user_id', 'product_id' and the final feature 'uxp_reorder_ratio'\n"
   ]
  },
  {
   "cell_type": "code",
   "execution_count": null,
   "metadata": {
    "collapsed": true
   },
   "outputs": [],
   "source": [
    "uxp_ratio = uxp_ratio.drop(['Times_Bought_N', 'total_orders', 'first_order_number', 'last_order_number','Order_Range_D'], axis=1)\n",
    "uxp_ratio.head()"
   ]
  },
  {
   "cell_type": "markdown",
   "metadata": {},
   "source": [
    "### 2.3.2.4 Merge the final feature with uxp DataFrame\n",
    "The new feature will be merged with the uxp DataFrame (section 2.3.1) which keep all the features based on combinations of user-products. We perform a left join as we want to keep all the user-products that we have created on the uxp DataFrame\n",
    "\n",
    "<img src=\"https://i.imgur.com/hPJXBuB.jpg\" width=\"400\">"
   ]
  },
  {
   "cell_type": "code",
   "execution_count": null,
   "metadata": {
    "collapsed": true
   },
   "outputs": [],
   "source": [
    "uxp = uxp.merge(uxp_ratio, on=['user_id', 'product_id'], how='left')\n",
    "\n",
    "del uxp_ratio\n",
    "uxp.head()"
   ]
  },
  {
   "cell_type": "markdown",
   "metadata": {},
   "source": [
    "### 2.3.3 For a each user we find the average position of a product on its order\n",
    "We assume that if a product has low average position in an order it is popular and it is possible the user to add it again in a future order"
   ]
  },
  {
   "cell_type": "code",
   "execution_count": null,
   "metadata": {
    "collapsed": true
   },
   "outputs": [],
   "source": [
    "#We calculate the average position of each product for each customer\n",
    "user_product_avg_pos=op.groupby(['user_id','product_id'])[['add_to_cart_order']].mean()\n",
    "\n",
    "#we rename the add_to_cart_order\n",
    "user_product_avg_pos=user_product_avg_pos.rename(columns={'add_to_cart_order':'mean_add_to_cart_order'})\n",
    "user_product_avg_pos.head()\n",
    "\n",
    "# Reset the index of the DF so to bring user_id & product_id indices to columns\n",
    "user_product_avg_pos = user_product_avg_pos.reset_index()\n",
    "\n",
    "#we calculate the biggest basket - it will be used when we will fill Nan values later\n",
    "max_basket_size=max(user_product_avg_pos.max())\n",
    "\n",
    "\n",
    "user_product_avg_pos.head()"
   ]
  },
  {
   "cell_type": "markdown",
   "metadata": {},
   "source": [
    "### 2.3.4 How many times a customer bought a product on its last N orders\n",
    "For this feature, we want to keep the last N orders for each customer and get how many times bought any product on them. To achieve this we need to:\n",
    "* Create a new variable ('order_number_back') which keeps the order_number for each order in reverse order\n",
    "* Keep only the last N orders for each order\n",
    "* Perform a .groupby( ) on users and products to get how many times each customer bought a product.\n",
    "* Create the following ratio: times_last_N=(Times a user bought a product on its last N orders)/(total orders=N)"
   ]
  },
  {
   "cell_type": "markdown",
   "metadata": {},
   "source": [
    "#### 2.3.4.1 Create a new variable ('order_number_back') which keeps the order_number for each order in reverse order\n",
    "In this step we show how we create a reverse order_number for each customer.\n"
   ]
  },
  {
   "cell_type": "code",
   "execution_count": null,
   "metadata": {
    "collapsed": true
   },
   "outputs": [],
   "source": [
    "op['order_number_back'] = op.groupby('user_id')['order_number'].transform(max) - op.order_number +1 \n",
    "op.head(15)"
   ]
  },
  {
   "cell_type": "markdown",
   "metadata": {},
   "source": [
    "#### 2.3.4.2 Keep only the last N orders for each customer\n",
    "With the use of order_number_back we can now select to keep only the last N orders of each customer:"
   ]
  },
  {
   "cell_type": "code",
   "execution_count": null,
   "metadata": {
    "collapsed": true
   },
   "outputs": [],
   "source": [
    "#We first choose the number N as parameter\n",
    "N=5\n",
    "opN = op[op.order_number_back <= N]\n",
    "opN.head(15)"
   ]
  },
  {
   "cell_type": "markdown",
   "metadata": {},
   "source": [
    "#### Perform a .groupby( ) on users and products to get how many times each customer bought every product\n",
    "Having kept the last N orders for each user, we perform a .groupby( ) on user_id & product_id. With .count( ) we get how many times each customer bought a product"
   ]
  },
  {
   "cell_type": "code",
   "execution_count": null,
   "metadata": {
    "collapsed": true
   },
   "outputs": [],
   "source": [
    "last_N = opN.groupby(['user_id','product_id'])[['order_id']].count()\n",
    "last_N.columns = ['times_lastN']\n",
    "last_N.head(10)"
   ]
  },
  {
   "cell_type": "markdown",
   "metadata": {},
   "source": [
    "####  Merge the final feature with uxp DataFrame\n",
    "The new feature will be merged with the uxp DataFrame (section 2.3.1) which keep all the features based on combinations of user-products. We perform a left join as we want to keep all the user-products that we have created on the uxp DataFrame"
   ]
  },
  {
   "cell_type": "code",
   "execution_count": null,
   "metadata": {
    "collapsed": true
   },
   "outputs": [],
   "source": [
    "uxp = uxp.merge(last_N, on=['user_id', 'product_id'], how='left')\n",
    "\n",
    "del [opN , last_N]\n",
    "uxp.head()"
   ]
  },
  {
   "cell_type": "markdown",
   "metadata": {},
   "source": [
    "#### Fill NaN values\n",
    "\n",
    "If you check uxp DataFrame you will notice that some rows have NaN values for our new feature. This happens as there might be products that the customer did not buy on its last N orders. For these cases, we turn NaN values into zero (0) with .fillna(0) method."
   ]
  },
  {
   "cell_type": "code",
   "execution_count": null,
   "metadata": {
    "collapsed": true
   },
   "outputs": [],
   "source": [
    "uxp = uxp.fillna(0)\n",
    "uxp.head()"
   ]
  },
  {
   "cell_type": "code",
   "execution_count": null,
   "metadata": {
    "collapsed": true
   },
   "outputs": [],
   "source": [
    "#Remove temporary DataFrames\n",
    "del [times, first_order_no, last_order_no, span]\n",
    "gc.collect()"
   ]
  },
  {
   "cell_type": "markdown",
   "metadata": {},
   "source": [
    "## 2.4 Merge all features\n",
    "We now merge the DataFrames with the three types of predictors that we have created (i.e., for the users, the products and the combinations of users and products).\n",
    "\n",
    "We will start from the **uxp** DataFrame and we will add the user and prd DataFrames. We do so because we want our final DataFrame (which will be called **data**) to have the following structure: \n",
    "\n",
    "<img style=\"float: left;\" src=\"https://i.imgur.com/mI5BbFE.jpg\" >\n",
    "\n",
    "\n",
    "\n",
    "\n"
   ]
  },
  {
   "cell_type": "markdown",
   "metadata": {},
   "source": [
    "### 2.4.1 Merge uxp with user DataFrame\n",
    "Here we select to perform a left join of uxp with user DataFrame based on matching key \"user_id\"\n",
    "\n",
    "<img src=\"https://i.imgur.com/WlI84Ud.jpg\" width=\"400\">\n",
    "\n",
    "Left join, ensures that the new DataFrame will have:\n",
    "- all the observations of the uxp (combination of user and products) DataFrame \n",
    "- all the **matching** observations of user DataFrame with uxp based on matching key **\"user_id\"**\n",
    "\n",
    "The new DataFrame as we have already mentioned, will be called **data**."
   ]
  },
  {
   "cell_type": "code",
   "execution_count": null,
   "metadata": {
    "collapsed": true
   },
   "outputs": [],
   "source": [
    "#Merge uxp features with the user features\n",
    "#Store the results on a new DataFrame\n",
    "data = uxp.merge(user, on='user_id', how='left')\n",
    "data.head()"
   ]
  },
  {
   "cell_type": "markdown",
   "metadata": {},
   "source": [
    "### 2.4.1 Merge data with prd DataFrame\n",
    "In this step we continue with our new DataFrame **data** and we perform a left join with prd DataFrame. The matching key here is the \"product_id\".\n",
    "<img src=\"https://i.imgur.com/Iak6nIz.jpg\" width=\"400\">\n",
    "\n",
    "Left join, ensures that the new DataFrame will have:\n",
    "- all the observations of the data (features of userXproducts and users) DataFrame \n",
    "- all the **matching** observations of prd DataFrame with data based on matching key **\"product_id\"**"
   ]
  },
  {
   "cell_type": "code",
   "execution_count": null,
   "metadata": {
    "collapsed": true
   },
   "outputs": [],
   "source": [
    "#Merge prd and prod_department\n",
    "prd=prd.merge(prod_department, on='product_id', how='left')\n",
    "\n",
    "#Merge uxp & user features (the new DataFrame) with prd features\n",
    "data = data.merge(prd, on='product_id', how='left')\n",
    "\n",
    "#Merge data with results\n",
    "data=data.merge(results, on='product_id', how='left')\n",
    "\n",
    "#Merge with user_product_avg_pos\n",
    "data=data.merge(user_product_avg_pos, on=['user_id','product_id'], how='left')\n",
    "\n",
    "data.head()"
   ]
  },
  {
   "cell_type": "markdown",
   "metadata": {},
   "source": [
    "### 2.4.2 Delete previous DataFrames"
   ]
  },
  {
   "cell_type": "markdown",
   "metadata": {},
   "source": [
    "The information from the DataFrames that we have created to store our features (op, user, prd, uxp) is now stored on **data**. \n",
    "\n",
    "As we won't use them anymore, we now delete them."
   ]
  },
  {
   "cell_type": "code",
   "execution_count": null,
   "metadata": {
    "collapsed": true
   },
   "outputs": [],
   "source": [
    "del op, user, prd, uxp, dep, prod_dep, prod_department, user_product_avg_pos, results, total_orders\n",
    "gc.collect()"
   ]
  },
  {
   "cell_type": "markdown",
   "metadata": {},
   "source": [
    "# 3. Create train and test DataFrames\n",
    "## 3.1 Include information about the last order of each user\n",
    "\n",
    "The **data** DataFrame that we have created on the previous chapter (2.4) should include two more columns which define the type of user (train or test) and the order_id of the future order.\n",
    "This information can be found on the initial orders DataFrame which was provided by Instacart: \n",
    "\n",
    "<img style=\"float: left;\" src=\"https://i.imgur.com/jbatzRY.jpg\" >\n",
    "\n",
    "\n",
    "Towards this end:\n",
    "1. We select the **orders** DataFrame to keep only the future orders (labeled as \"train\" & \"test). \n",
    "2. Keep only the columns of our desire ['eval_set', 'order_id'] <span style=\"color:red\">**AND** </span> 'user_id' as is the matching key with our **data** DataFrame\n",
    "2. Merge **data** DataFrame with the information for the future order of each customer using as matching key the 'user_id'"
   ]
  },
  {
   "cell_type": "markdown",
   "metadata": {},
   "source": [
    "To filter and select the columns of our desire on orders (the 2 first steps) there are numerous approaches:"
   ]
  },
  {
   "cell_type": "code",
   "execution_count": null,
   "metadata": {
    "collapsed": true
   },
   "outputs": [],
   "source": [
    "## First approach:\n",
    "# In two steps keep only the future orders from all customers: train & test \n",
    "orders_future = orders[((orders.eval_set=='train') | (orders.eval_set=='test'))]\n",
    "orders_future = orders_future[ ['user_id', 'eval_set', 'order_id'] ]\n",
    "orders_future.head(10)\n",
    "\n",
    "## Second approach (if you want to test it you have to re-run the notebook):\n",
    "# In one step keep only the future orders from all customers: train & test \n",
    "#orders_future = orders.loc[((orders.eval_set=='train') | (orders.eval_set=='test')), ['user_id', 'eval_set', 'order_id'] ]\n",
    "#orders_future.head(10)\n",
    "\n",
    "## Third approach (if you want to test it you have to re-run the notebook):\n",
    "# In one step exclude all the prior orders so to deal with the future orders from all customers\n",
    "#orders_future = orders.loc[orders.eval_set!='prior', ['user_id', 'eval_set', 'order_id'] ]\n",
    "#orders_future.head(10)"
   ]
  },
  {
   "cell_type": "markdown",
   "metadata": {},
   "source": [
    "To fulfill step 3, we merge on **data** DataFrame the information for the last order of each customer. The matching key here is the user_id and we select a left join as we want to keep all the observations from **data** DataFrame.\n",
    "\n",
    "<img src=\"https://i.imgur.com/m3pNVDW.jpg\" width=\"400\">"
   ]
  },
  {
   "cell_type": "code",
   "execution_count": null,
   "metadata": {
    "collapsed": true
   },
   "outputs": [],
   "source": [
    "# bring the info of the future orders to data DF\n",
    "data = data.merge(orders_future, on='user_id', how='left')\n",
    "data.head(10)"
   ]
  },
  {
   "cell_type": "markdown",
   "metadata": {},
   "source": [
    "## 3.2 Prepare the train DataFrame\n",
    "In order to prepare the train Dataset, which will be used to create our prediction model, we need to include also the response (Y) and thus have the following structure:\n",
    "\n",
    "<img style=\"float: left;\" src=\"https://i.imgur.com/PDu2vfR.jpg\" >\n",
    "\n",
    "Towards this end:\n",
    "1. We keep only the customers who are labelled as \"train\" from the competition\n",
    "2. For these customers we get from order_products_train the products that they have bought, in order to create the response variable (reordered:1 or 0)\n",
    "3. We make all the required manipulations on that dataset and we remove the columns that are not predictors\n",
    "\n",
    "So now we filter the **data** DataFrame so to keep only the train users:"
   ]
  },
  {
   "cell_type": "code",
   "execution_count": null,
   "metadata": {
    "collapsed": true
   },
   "outputs": [],
   "source": [
    "#Keep only the customers who we know what they bought in their future order\n",
    "data_train = data[data.eval_set=='train']\n",
    "data_train.head()"
   ]
  },
  {
   "cell_type": "markdown",
   "metadata": {},
   "source": [
    "For these customers we get from order_products_train the products that they have bought. The matching keys are here two: the \"product_id\" & \"order_id\". A left join keeps all the observations from data_train DataFrame\n",
    "\n",
    "<img src=\"https://i.imgur.com/kndys9d.jpg\" width=\"400\">"
   ]
  },
  {
   "cell_type": "code",
   "execution_count": null,
   "metadata": {
    "collapsed": true
   },
   "outputs": [],
   "source": [
    "#Get from order_products_train all the products that the train users bought in their future order\n",
    "data_train = data_train.merge(order_products_train[['product_id','order_id', 'reordered']], on=['product_id','order_id'], how='left' )\n",
    "data_train.head(15)"
   ]
  },
  {
   "cell_type": "markdown",
   "metadata": {},
   "source": [
    "On the last columm (reordered) you can find out our response (y). \n",
    "There are combinations of User X Product which they were reordered (1) on last order where other were not (NaN value).\n",
    "\n",
    "Now we manipulate the data_train DataFrame, to bring it into a structure for Machine Learning (X1,X2,....,Xn, y):\n",
    "- Fill NaN values with value zero (regards reordered rows without value = 1)"
   ]
  },
  {
   "cell_type": "code",
   "execution_count": null,
   "metadata": {
    "collapsed": true
   },
   "outputs": [],
   "source": [
    "#Where the previous merge, left a NaN value on reordered column means that the customers they haven't bought the product. We change the value on them to 0.\n",
    "data_train['reordered'] = data_train['reordered'].fillna(0)\n",
    "\n",
    "#we fill nan values with a very large number -the maximum basket size\n",
    "data_train['mean_add_to_cart_order']=data_train['mean_add_to_cart_order'].fillna(max_basket_size)\n",
    "\n",
    "data_train.head(15)"
   ]
  },
  {
   "cell_type": "markdown",
   "metadata": {},
   "source": [
    "- Set as index the column(s) that describe uniquely each row (in our case \"user_id\" & \"product_id\")\n"
   ]
  },
  {
   "cell_type": "code",
   "execution_count": null,
   "metadata": {
    "collapsed": true
   },
   "outputs": [],
   "source": [
    "#We set user_id and product_id as the index of the DF\n",
    "data_train = data_train.set_index(['user_id', 'product_id'])\n",
    "data_train.head(15)"
   ]
  },
  {
   "cell_type": "markdown",
   "metadata": {},
   "source": [
    "- Remove columns which are not predictors (in our case: 'eval_set','order_id')"
   ]
  },
  {
   "cell_type": "code",
   "execution_count": null,
   "metadata": {
    "collapsed": true
   },
   "outputs": [],
   "source": [
    "#We remove all non-predictor variables\n",
    "data_train = data_train.drop(['eval_set', 'order_id'], axis=1)\n",
    "data_train.head(15)"
   ]
  },
  {
   "cell_type": "markdown",
   "metadata": {},
   "source": [
    "## 3.3 Prepare the test DataFrame\n",
    "The test DataFrame must have the same structure as the train DataFrame, excluding the \"reordered\" column (as it is the label that we want to predict).\n",
    "<img style=\"float: left;\" src=\"https://i.imgur.com/lLJ7wpA.jpg\" >\n",
    "\n",
    " To create it, we:\n",
    "- Keep only the customers who are labelled as test"
   ]
  },
  {
   "cell_type": "code",
   "execution_count": null,
   "metadata": {
    "collapsed": true
   },
   "outputs": [],
   "source": [
    "#Keep only the future orders from customers who are labelled as test\n",
    "data_test = data[data.eval_set=='test']\n",
    "data_test.head()"
   ]
  },
  {
   "cell_type": "markdown",
   "metadata": {},
   "source": [
    "- Set as index the column(s) that uniquely describe each row (in our case \"user_id\" & \"product_id\")\n"
   ]
  },
  {
   "cell_type": "code",
   "execution_count": null,
   "metadata": {
    "collapsed": true
   },
   "outputs": [],
   "source": [
    "#We set user_id and product_id as the index of the DF\n",
    "data_test = data_test.set_index(['user_id', 'product_id'])\n",
    "\n",
    "#we fill nan values with the max_basket_size\n",
    "data_test['mean_add_to_cart_order']=data_test['mean_add_to_cart_order'].fillna(max_basket_size)\n",
    "\n",
    "data_test.head()"
   ]
  },
  {
   "cell_type": "markdown",
   "metadata": {},
   "source": [
    "- Remove the columns that are predictors (in our case:'eval_set', 'order_id')"
   ]
  },
  {
   "cell_type": "code",
   "execution_count": null,
   "metadata": {
    "collapsed": true
   },
   "outputs": [],
   "source": [
    "#We remove all non-predictor variables\n",
    "data_test = data_test.drop(['eval_set','order_id'], axis=1)\n",
    "#Check if the data_test DF, has the same number of columns as the data_train DF, excluding the response variable\n",
    "data_test.head()"
   ]
  },
  {
   "cell_type": "markdown",
   "metadata": {},
   "source": [
    "We now delete dataframe data because we form the dataframes data_test and data_train"
   ]
  },
  {
   "cell_type": "code",
   "execution_count": null,
   "metadata": {
    "collapsed": true
   },
   "outputs": [],
   "source": [
    "#save the data dataframe to csv file\n",
    "#data.to_csv('data.csv',header=True)\n",
    "\n",
    "del data\n",
    "\n",
    "#we delete original dataframes except order\n",
    "del order_products_train, order_products_prior, products, aisles, departments\n",
    "\n",
    "gc.collect()"
   ]
  },
  {
   "cell_type": "markdown",
   "metadata": {},
   "source": [
    "# 4. Create predictive model (fit)\n",
    "The Machine Learning model that we are going to create is based on the XGBoost algorithm.\n",
    "\n",
    "\n",
    "## 4.1 Train XGBoost 📚📝\n",
    "\n",
    "XGBoost stands for e**X**treme **G**radient **Boost**ing, an algorithm that is used in many winning solutions for Kaggle competitions [(ref)](https://github.com/dmlc/xgboost/tree/master/demo#machine-learning-challenge-winning-solutions). \n",
    "\n",
    "XGBoost is an implementation of gradient boosted decision trees designed for speed and performance.\n",
    "\n",
    "Gradient boosting is an approach where new models are created that predict the residuals or errors of prior models and then added together to make the final prediction. It is called gradient boosting because it uses a gradient descent algorithm to minimize the loss when adding new models.\n",
    "\n",
    "To create the predictive model we:\n",
    "\n",
    "**1** - Load XGBoost's package (is not includes in scikit-learn, but it can interact with it)\n",
    "\n",
    "**2** - Separate predictors from response and store them into an optimized data structure which works with XGBoost\n",
    "\n",
    "**3** - Set the hyperparameters of the booster\n",
    ">> - eval_metric: Evaluation metrics for validation data, a default metric will be assigned according to objective (rmse for regression, and error for classification, mean average precision for ranking)\n",
    ">> - max_depth: Maximum depth of a tree\n",
    ">> - colsample_bytree: Denotes the fraction of columns to be randomly samples for each tree.\n",
    ">> - subsample:  Denotes the fraction of observations to be randomly samples for each tree.\n",
    "Lower values make the algorithm more conservative and prevents overfitting but too small values might lead to under-fitting.\n",
    "\n",
    "**4** - We instantiate a XGBClassifier( ) where you will notice different arguments:\n",
    ">> - objective: This defines the loss function to be minimized. In our example we use binary:logistic –logistic regression for binary classification, returns predicted probability (not class)\n",
    ">> - parameters: Includes all the hyperparameters that were defined in the step 3 - these are special parameters only for our classification problem\n",
    ">> - num_boost_round: Number of boosting iterations\n",
    "\n",
    "\n",
    "**5** - Finally we train our model with the X_train and y_train data.\n",
    "\n",
    "**6** - Get the feature importance that yields from our model\n",
    "\n",
    "You can read in more detail how to use XGBoost in Python in the following [link](https://www.datacamp.com/community/tutorials/xgboost-in-python)"
   ]
  },
  {
   "cell_type": "code",
   "execution_count": null,
   "metadata": {
    "collapsed": true
   },
   "outputs": [],
   "source": [
    "\n",
    "# TRAIN FULL \n",
    "###########################\n",
    "## IMPORT REQUIRED PACKAGES\n",
    "###########################\n",
    "import xgboost as xgb\n",
    "\n",
    "##########################################\n",
    "## SPLIT DF TO: X_train, y_train (axis=1)\n",
    "##########################################\n",
    "X_train, y_train = data_train.drop('reordered', axis=1), data_train.reordered\n",
    "\n",
    "########################################\n",
    "## SET BOOSTER'S PARAMETERS\n",
    "########################################\n",
    "parameters = {'eval_metric':'logloss', \n",
    "              'max_depth':'5', \n",
    "              'colsample_bytree':'0.4',\n",
    "              'subsample':'0.75'\n",
    "             }\n",
    "\n",
    "########################################\n",
    "## INSTANTIATE XGBClassifier()\n",
    "########################################\n",
    "#no GPU\n",
    "#xgbc = xgb.XGBClassifier(objective='binary:logistic', parameters=parameters, num_boost_round=10)\n",
    "#with GPU\n",
    "xgbc = xgb.XGBClassifier(objective='binary:logistic', parameters=parameters, num_boost_round=10, gpu_id=0, tree_method = 'gpu_hist')\n",
    "########################################\n",
    "## TRAIN MODEL\n",
    "########################################\n",
    "model = xgbc.fit(X_train, y_train)\n",
    "\n",
    "##################################\n",
    "# FEATURE IMPORTANCE - GRAPHICAL\n",
    "##################################\n",
    "xgb.plot_importance(model)\n"
   ]
  },
  {
   "cell_type": "code",
   "execution_count": null,
   "metadata": {
    "collapsed": true
   },
   "outputs": [],
   "source": [
    "xgb.plot_importance(model)"
   ]
  },
  {
   "cell_type": "markdown",
   "metadata": {},
   "source": [
    "Plot the tree of the model"
   ]
  },
  {
   "cell_type": "code",
   "execution_count": null,
   "metadata": {
    "collapsed": true
   },
   "outputs": [],
   "source": [
    "from matplotlib import pyplot\n",
    "from xgboost import plot_tree\n",
    "plot_tree(model)\n",
    "pyplot.show()"
   ]
  },
  {
   "cell_type": "markdown",
   "metadata": {},
   "source": [
    "## 4.2 Fine-tune your model\n",
    "\n",
    "Most algorithms have their own parameters that we need to declare. With method .get_params() we can retrieve the parameters of our fitting model"
   ]
  },
  {
   "cell_type": "code",
   "execution_count": null,
   "metadata": {
    "collapsed": true
   },
   "outputs": [],
   "source": [
    "model.get_xgb_params()"
   ]
  },
  {
   "cell_type": "markdown",
   "metadata": {},
   "source": [
    "These parameters do not necessarily create the best fitting model (in terms of prediction score). The method .GridSearchCV( ) can make several trials to define the best parameters for our fitting model. "
   ]
  },
  {
   "cell_type": "code",
   "execution_count": null,
   "metadata": {
    "collapsed": true
   },
   "outputs": [],
   "source": [
    "###########################\n",
    "## DISABLE WARNINGS\n",
    "###########################\n",
    "import sys\n",
    "import warnings\n",
    "\n",
    "if not sys.warnoptions:\n",
    "    warnings.simplefilter(\"ignore\")\n",
    "\n",
    "###########################\n",
    "## IMPORT REQUIRED PACKAGES\n",
    "###########################\n",
    "import xgboost as xgb\n",
    "from sklearn.model_selection import GridSearchCV\n",
    "\n",
    "####################################\n",
    "## SET BOOSTER'S RANGE OF PARAMETERS\n",
    "# IMPORTANT NOTICE: Fine-tuning an XGBoost model may be a computational prohibitive process with a regular computer or a Kaggle kernel. \n",
    "# Be cautious what parameters you enter in paramGrid section.\n",
    "# More paremeters means that GridSearch will create and evaluate more models.\n",
    "####################################    \n",
    "paramGrid = {\"max_depth\":[5,10],\n",
    "            \"colsample_bytree\":[0.3,0.4],\n",
    "            \"eval_metric\":[\"mae\", \"logloss\"],\n",
    "            \"subsample\":[0.5, 0.8]}  \n",
    "\n",
    "########################################\n",
    "## INSTANTIATE XGBClassifier()\n",
    "########################################\n",
    "#no GPU\n",
    "#xgbc = xgb.XGBClassifier(objective='binary:logistic', eval_metric='logloss', num_boost_round=10)\n",
    "#with GPU\n",
    "xgbc = xgb.XGBClassifier(objective='binary:logistic', eval_metric='logloss', num_boost_round=10, gpu_id=0, tree_method = 'gpu_hist')\n",
    "\n",
    "\n",
    "##############################################\n",
    "## DEFINE HOW TO TRAIN THE DIFFERENT MODELS\n",
    "#############################################\n",
    "gridsearch = GridSearchCV(xgbc, paramGrid, cv=3, verbose=2, n_jobs=1)\n",
    "\n",
    "##########################################\n",
    "## SPLIT DF TO: X_train, y_train (axis=1)\n",
    "##########################################\n",
    "X_train, y_train = data_train.drop('reordered', axis=1), data_train.reordered\n",
    "\n",
    "################################################################\n",
    "## TRAIN THE MODELS\n",
    "### - with the combinations of different parameters\n",
    "### - here is where GridSearch will be exeucuted\n",
    "#################################################################\n",
    "model = gridsearch.fit(X_train, y_train)\n",
    "\n",
    "##################################\n",
    "## OUTPUT(S)\n",
    "##################################\n",
    "# Print the best parameters\n",
    "print(\"The best parameters are: /n\",  gridsearch.best_params_)\n",
    "\n",
    "# Store the model for prediction (chapter 5)\n",
    "model = gridsearch.best_estimator_\n",
    "\n",
    "# Delete X_train , y_train\n",
    "del [X_train, y_train]"
   ]
  },
  {
   "cell_type": "markdown",
   "metadata": {},
   "source": [
    "The model has now the new parameters from GridSearchCV:"
   ]
  },
  {
   "cell_type": "code",
   "execution_count": null,
   "metadata": {
    "collapsed": true
   },
   "outputs": [],
   "source": [
    "model.get_params()"
   ]
  },
  {
   "cell_type": "markdown",
   "metadata": {},
   "source": [
    "Alternatively, we can use the hyperparameters of the GridSearchCV to train the model using the full set of data below:"
   ]
  },
  {
   "cell_type": "code",
   "execution_count": null,
   "metadata": {
    "collapsed": true
   },
   "outputs": [],
   "source": [
    "'''\n",
    "# TRAIN FULL \n",
    "###########################\n",
    "## IMPORT REQUIRED PACKAGES\n",
    "###########################\n",
    "import xgboost as xgb\n",
    "\n",
    "##########################################\n",
    "## SPLIT DF TO: X_train, y_train (axis=1)\n",
    "##########################################\n",
    "X_train, y_train = data_train.drop('reordered', axis=1), data_train.reordered\n",
    "\n",
    "########################################\n",
    "## SET BOOSTER'S PARAMETERS\n",
    "########################################\n",
    "parameters = {'eval_metric':'mae', \n",
    "              'max_depth':'5', \n",
    "              'colsample_bytree':'0.4',\n",
    "              'subsample':'0.8'\n",
    "             }\n",
    "\n",
    "########################################\n",
    "## INSTANTIATE XGBClassifier()\n",
    "########################################\n",
    "#no GPU\n",
    "#xgbc = xgb.XGBClassifier(objective='binary:logistic', parameters=parameters, num_boost_round=10)\n",
    "#with GPU\n",
    "xgbc = xgb.XGBClassifier(objective='binary:logistic', eval_metric='logloss', num_boost_round=10, gpu_id=0, tree_method = 'gpu_hist')\n",
    "\n",
    "\n",
    "\n",
    "########################################\n",
    "## TRAIN MODEL\n",
    "########################################\n",
    "model = xgbc.fit(X_train, y_train)\n",
    "\n",
    "##################################\n",
    "# FEATURE IMPORTANCE - GRAPHICAL\n",
    "##################################\n",
    "xgb.plot_importance(model)\n",
    "'''"
   ]
  },
  {
   "cell_type": "markdown",
   "metadata": {},
   "source": [
    "# 5. Apply predictive model (predict)\n",
    "The model that we have created is stored in the **model** object.\n",
    "At this step we predict the values for the test data and we store them in a new column in the same DataFrame."
   ]
  },
  {
   "cell_type": "code",
   "execution_count": null,
   "metadata": {
    "collapsed": true
   },
   "outputs": [],
   "source": [
    "## Predict values for test data with our model from chapter 5 - the results are saved as a Python array\n",
    "#test_pred = model.predict(data_test).astype(int)\n",
    "#test_pred[0:20] #display the first 20 predictions of the numpy array"
   ]
  },
  {
   "cell_type": "code",
   "execution_count": null,
   "metadata": {
    "collapsed": true
   },
   "outputs": [],
   "source": [
    "## OR set a custom threshold (in this problem, 0.21 yields the best prediction)\n",
    "test_pred = (model.predict_proba(data_test)[:,1] >= 0.21).astype(int)\n",
    "test_pred[0:20] #display the first 20 predictions of the numpy array"
   ]
  },
  {
   "cell_type": "code",
   "execution_count": null,
   "metadata": {
    "collapsed": true
   },
   "outputs": [],
   "source": [
    "#Save the prediction (saved in a numpy array) on a new column in the data_test DF\n",
    "data_test['prediction'] = test_pred\n",
    "data_test.head(10)"
   ]
  },
  {
   "cell_type": "code",
   "execution_count": null,
   "metadata": {
    "collapsed": true
   },
   "outputs": [],
   "source": [
    "#Reset the index\n",
    "final = data_test.reset_index()\n",
    "#Keep only the required columns to create our submission file (for chapter 6)\n",
    "final = final[['product_id', 'user_id', 'prediction']]\n",
    "\n",
    "gc.collect()\n",
    "final.head()"
   ]
  },
  {
   "cell_type": "markdown",
   "metadata": {},
   "source": [
    "# 6. Creation of Submission File\n",
    "To submit our prediction to Instacart competition we have to get for each user_id (test users) their last order_id. The final submission file should have the test order numbers and the products that we predict that are going to be bought.\n",
    "\n",
    "To create this file we retrieve from orders DataFrame all the test orders with their matching user_id:"
   ]
  },
  {
   "cell_type": "code",
   "execution_count": null,
   "metadata": {
    "collapsed": true
   },
   "outputs": [],
   "source": [
    "orders_test = orders.loc[orders.eval_set=='test',(\"user_id\", \"order_id\") ]\n",
    "orders_test.head()"
   ]
  },
  {
   "cell_type": "markdown",
   "metadata": {},
   "source": [
    "We merge it with our predictions (from chapter 5) using a left join:\n",
    "<img src=\"https://i.imgur.com/KJubu0v.jpg\" width=\"400\">"
   ]
  },
  {
   "cell_type": "code",
   "execution_count": null,
   "metadata": {
    "collapsed": true
   },
   "outputs": [],
   "source": [
    "final = final.merge(orders_test, on='user_id', how='left')\n",
    "final.head()"
   ]
  },
  {
   "cell_type": "markdown",
   "metadata": {},
   "source": [
    "And we move on with two final manipulations:\n",
    "- remove any undesired column (in our case user_id)"
   ]
  },
  {
   "cell_type": "code",
   "execution_count": null,
   "metadata": {
    "collapsed": true
   },
   "outputs": [],
   "source": [
    "#remove user_id column\n",
    "final = final.drop('user_id', axis=1)\n"
   ]
  },
  {
   "cell_type": "markdown",
   "metadata": {},
   "source": [
    "- set product_id column as integer (mandatory action to proceed to the next step)"
   ]
  },
  {
   "cell_type": "code",
   "execution_count": null,
   "metadata": {
    "collapsed": true
   },
   "outputs": [],
   "source": [
    "#convert product_id as integer\n",
    "final['product_id'] = final.product_id.astype(int)\n",
    "\n",
    "## Remove all unnecessary objects\n",
    "del orders\n",
    "del orders_test\n",
    "gc.collect()\n",
    "\n",
    "final.head()"
   ]
  },
  {
   "cell_type": "markdown",
   "metadata": {},
   "source": [
    "For our submission file we initiate an empty dictionary. In this dictionary we will place as index the order_id and as values all the products that the order will have. If none product will be purchased, we have explicitly to place the string \"None\". This syntax follows the submission's file standards defined by the competition."
   ]
  },
  {
   "cell_type": "code",
   "execution_count": null,
   "metadata": {
    "_kg_hide-output": true,
    "collapsed": true
   },
   "outputs": [],
   "source": [
    "d = dict()\n",
    "for row in final.itertuples():\n",
    "    if row.prediction== 1:\n",
    "        try:\n",
    "            d[row.order_id] += ' ' + str(row.product_id)\n",
    "        except:\n",
    "            d[row.order_id] = str(row.product_id)\n",
    "\n",
    "for order in final.order_id:\n",
    "    if order not in d:\n",
    "        d[order] = 'None'\n",
    "        \n",
    "gc.collect()\n",
    "\n",
    "#We now check how the dictionary were populated (open hidden output)\n",
    "d"
   ]
  },
  {
   "cell_type": "markdown",
   "metadata": {},
   "source": [
    "We convert the dictionary to a DataFrame and prepare it to extact it into a .csv file"
   ]
  },
  {
   "cell_type": "code",
   "execution_count": null,
   "metadata": {
    "collapsed": true
   },
   "outputs": [],
   "source": [
    "#Convert the dictionary into a DataFrame\n",
    "sub = pd.DataFrame.from_dict(d, orient='index')\n",
    "\n",
    "#Reset index\n",
    "sub.reset_index(inplace=True)\n",
    "#Set column names\n",
    "sub.columns = ['order_id', 'products']\n",
    "\n",
    "sub.head()"
   ]
  },
  {
   "cell_type": "markdown",
   "metadata": {},
   "source": [
    "**The submission file should have 75.000 predictions to be submitted in the competition**"
   ]
  },
  {
   "cell_type": "code",
   "execution_count": null,
   "metadata": {
    "collapsed": true
   },
   "outputs": [],
   "source": [
    "#Check if sub file has 75000 predictions\n",
    "sub.shape[0]\n",
    "print(sub.shape[0]==75000)"
   ]
  },
  {
   "cell_type": "markdown",
   "metadata": {},
   "source": [
    "The DataFrame can now be converted to .csv file. Pandas can export a DataFrame to a .csv file with the .to_csv( ) function."
   ]
  },
  {
   "cell_type": "code",
   "execution_count": null,
   "metadata": {
    "collapsed": true
   },
   "outputs": [],
   "source": [
    "sub.to_csv('sub.csv', index=False)"
   ]
  },
  {
   "cell_type": "markdown",
   "metadata": {},
   "source": [
    "# 7. Get F1 Score"
   ]
  },
  {
   "cell_type": "markdown",
   "metadata": {},
   "source": [
    "Before you are ready to submit your prediction to the competion, **ensure that**:\n",
    "- **You have used all of the offered data and not the 10% that was defined as an optional step on section 1.2**\n",
    "\n",
    "To submit your prediction and get the F1 score you have to:\n",
    "1. Commit this notebook and wait for the results \n",
    "2. Go to view mode (where you see your notebook but you can't edit it)\n",
    "3. Click on the data section from your left panel\n",
    "4. Find the sub.csv (on outputs), below the section with the data from Instacart\n",
    "5. Click on \"Submit to competition\" button\n",
    "\n",
    "Regarding step 1:\n",
    ">This step might take long. If it exceeds 20-30 minutes it would be wise to check your code again. Kaggle won't inform you during commit if the notebook has:\n",
    "- syntax errors\n",
    "- if it exceeds 16 GB RAM\n",
    "- if it takes an algorirthms too much to train or predict\n",
    "\n",
    ">Any new commit:\n",
    "- can't take more than 9 hours\n",
    "- doesn't stop if it exceeds the 16 GB RAM - you will just receive an error of unsuccesful commit after 9 hours"
   ]
  }
 ],
 "metadata": {
  "kernelspec": {
   "display_name": "Python 3",
   "language": "python",
   "name": "python3"
  },
  "language_info": {
   "codemirror_mode": {
    "name": "ipython",
    "version": 3
   },
   "file_extension": ".py",
   "mimetype": "text/x-python",
   "name": "python",
   "nbconvert_exporter": "python",
   "pygments_lexer": "ipython3",
   "version": "3.7.4"
  }
 },
 "nbformat": 4,
 "nbformat_minor": 4
}
